{
 "cells": [
  {
   "cell_type": "code",
   "execution_count": null,
   "metadata": {},
   "outputs": [],
   "source": [
    "# %load inference.py\n",
    "import keras\n",
    "from keras_retinanet.models.resnet import custom_objects\n",
    "from keras_retinanet.utils.image import read_image_bgr, preprocess_image, resize_image\n",
    "from keras_retinanet.utils.visualization import draw_box, draw_caption\n",
    "from keras_retinanet.utils.colors import label_color\n",
    "import matplotlib.pyplot as plt\n",
    "import cv2\n",
    "import numpy as np\n",
    "import time\n",
    "import matplotlib\n",
    "matplotlib.use(\"Agg\")\n",
    "model = keras.models.load_model('mod-40_loss-2.0113.h5', custom_objects=custom_objects)\n",
    "labels_to_names = {0: 'Malaria'}"
   ]
  },
  {
   "cell_type": "code",
   "execution_count": 2,
   "metadata": {},
   "outputs": [
    {
     "name": "stdout",
     "output_type": "stream",
     "text": [
      "callbacks.py  inference.py  __pycache__  train_retina.py\r\n",
      "demo.ipynb    __init__.py   ssd\r\n"
     ]
    }
   ],
   "source": [
    "image = read_image_bgr('images/mal.jpg')\n",
    "\n",
    "# copy to draw on\n",
    "draw = image.copy()\n",
    "draw = cv2.cvtColor(draw, cv2.COLOR_BGR2RGB)\n",
    "\n",
    "# preprocess image for network\n",
    "image = preprocess_image(image)\n",
    "image, scale = resize_image(image, min_side=750, max_side=750)\n",
    "\n",
    "# process image\n",
    "start = time.time()\n",
    "_, _, boxes, nms_classification = model.predict_on_batch(np.expand_dims(image, axis=0))\n",
    "print(\"processing time: \", time.time() - start)\n",
    "\n",
    "# compute predicted labels and scores\n",
    "predicted_labels = np.argmax(nms_classification[0, :, :], axis=1)\n",
    "scores = nms_classification[0, np.arange(nms_classification.shape[1]), predicted_labels]\n",
    "\n",
    "# correct for image scale\n",
    "boxes /= scale\n",
    "\n",
    "# visualize detections\n",
    "for idx, (label, score) in enumerate(zip(predicted_labels, scores)):\n",
    "    if score < 0.2:\n",
    "        continue\n",
    "\n",
    "    color = label_color(label)\n",
    "\n",
    "    b = boxes[0, idx, :].astype(int)\n",
    "    draw_box(draw, b, color=color)\n",
    "\n",
    "    caption = \"{:.3f}\".format(score)\n",
    "    draw_caption(draw, b, caption)\n",
    "\n",
    "plt.figure(figsize=(15, 15))\n",
    "plt.axis('off')\n",
    "plt.imshow(draw)\n",
    "plt.show()"
   ]
  }
 ],
 "metadata": {
  "kernelspec": {
   "display_name": "Python 3",
   "language": "python",
   "name": "python3"
  },
  "language_info": {
   "codemirror_mode": {
    "name": "ipython",
    "version": 3
   },
   "file_extension": ".py",
   "mimetype": "text/x-python",
   "name": "python",
   "nbconvert_exporter": "python",
   "pygments_lexer": "ipython3",
   "version": "3.6.4"
  }
 },
 "nbformat": 4,
 "nbformat_minor": 2
}
